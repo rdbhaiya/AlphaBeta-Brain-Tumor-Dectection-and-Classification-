{
 "cells": [
  {
   "cell_type": "code",
   "execution_count": 1,
   "metadata": {},
   "outputs": [],
   "source": [
    "from tensorflow.keras.models import load_model, save_model"
   ]
  },
  {
   "cell_type": "code",
   "execution_count": 3,
   "metadata": {},
   "outputs": [],
   "source": [
    "model = load_model('C:\\\\Users\\\\SHUBHAM SINGH\\\\Desktop\\\\AIML hackathon\\\\Classification\\\\xception_model.keras')"
   ]
  },
  {
   "cell_type": "code",
   "execution_count": 6,
   "metadata": {},
   "outputs": [],
   "source": [
    "import cv2\n",
    "import matplotlib.pyplot as plt\n",
    "import numpy as np\n",
    "import pandas as pd"
   ]
  },
  {
   "cell_type": "code",
   "execution_count": 9,
   "metadata": {},
   "outputs": [],
   "source": [
    "labels = ['glioma_tumor','no_tumor','meningioma_tumor','pituitary_tumor']"
   ]
  },
  {
   "cell_type": "code",
   "execution_count": 10,
   "metadata": {},
   "outputs": [
    {
     "name": "stdout",
     "output_type": "stream",
     "text": [
      "\u001b[1m1/1\u001b[0m \u001b[32m━━━━━━━━━━━━━━━━━━━━\u001b[0m\u001b[37m\u001b[0m \u001b[1m0s\u001b[0m 27ms/step\n"
     ]
    },
    {
     "data": {
      "text/plain": [
       "'meningioma_tumor'"
      ]
     },
     "execution_count": 10,
     "metadata": {},
     "output_type": "execute_result"
    }
   ],
   "source": [
    "image = cv2.imread(\"C:\\\\Users\\\\SHUBHAM SINGH\\\\Desktop\\\\Pituitary-macroadenoma-CT-01.jpg\")\n",
    "image = cv2.resize(image, (150, 150))\n",
    "\n",
    "# Normalize the image\n",
    "image = image / 255.0\n",
    "\n",
    "# Convert the image to a NumPy array and add a batch dimension\n",
    "image = np.expand_dims(image, axis=0)\n",
    "\n",
    "# Make a prediction\n",
    "predictions = model.predict(image)\n",
    "labels[np.argmax(predictions)]"
   ]
  },
  {
   "cell_type": "code",
   "execution_count": 11,
   "metadata": {},
   "outputs": [
    {
     "name": "stdout",
     "output_type": "stream",
     "text": [
      "\u001b[1m1/1\u001b[0m \u001b[32m━━━━━━━━━━━━━━━━━━━━\u001b[0m\u001b[37m\u001b[0m \u001b[1m0s\u001b[0m 25ms/step\n"
     ]
    },
    {
     "data": {
      "text/plain": [
       "'meningioma_tumor'"
      ]
     },
     "execution_count": 11,
     "metadata": {},
     "output_type": "execute_result"
    }
   ],
   "source": [
    "image = cv2.imread(\"C:\\\\Users\\\\SHUBHAM SINGH\\\\Desktop\\\\images.jpg\")\n",
    "image = cv2.resize(image, (150, 150))\n",
    "\n",
    "# Normalize the image\n",
    "image = image / 255.0\n",
    "\n",
    "# Convert the image to a NumPy array and add a batch dimension\n",
    "image = np.expand_dims(image, axis=0)\n",
    "\n",
    "# Make a prediction\n",
    "predictions = model.predict(image)\n",
    "labels[np.argmax(predictions)]"
   ]
  },
  {
   "cell_type": "code",
   "execution_count": 14,
   "metadata": {},
   "outputs": [
    {
     "name": "stdout",
     "output_type": "stream",
     "text": [
      "[[[ 4  4  4]\n",
      "  [ 2  2  2]\n",
      "  [ 1  1  1]\n",
      "  ...\n",
      "  [ 1  1  1]\n",
      "  [ 1  1  1]\n",
      "  [ 0  0  0]]\n",
      "\n",
      " [[ 0  0  0]\n",
      "  [ 2  2  2]\n",
      "  [ 1  1  1]\n",
      "  ...\n",
      "  [ 1  1  1]\n",
      "  [ 1  1  1]\n",
      "  [ 2  2  2]]\n",
      "\n",
      " [[ 0  0  0]\n",
      "  [ 3  3  3]\n",
      "  [ 7  7  7]\n",
      "  ...\n",
      "  [ 5  5  5]\n",
      "  [ 3  3  3]\n",
      "  [ 5  5  5]]\n",
      "\n",
      " ...\n",
      "\n",
      " [[ 2  2  2]\n",
      "  [ 5  5  5]\n",
      "  [ 7  7  7]\n",
      "  ...\n",
      "  [ 5  5  5]\n",
      "  [ 7  7  7]\n",
      "  [ 8  8  8]]\n",
      "\n",
      " [[11 11 11]\n",
      "  [11 11 11]\n",
      "  [10 10 10]\n",
      "  ...\n",
      "  [ 0  0  0]\n",
      "  [ 7  7  7]\n",
      "  [10 10 10]]\n",
      "\n",
      " [[10 10 10]\n",
      "  [11 11 11]\n",
      "  [ 9  9  9]\n",
      "  ...\n",
      "  [ 7  7  7]\n",
      "  [ 6  6  6]\n",
      "  [ 4  4  4]]]\n",
      "\u001b[1m1/1\u001b[0m \u001b[32m━━━━━━━━━━━━━━━━━━━━\u001b[0m\u001b[37m\u001b[0m \u001b[1m0s\u001b[0m 27ms/step\n"
     ]
    },
    {
     "data": {
      "text/plain": [
       "'meningioma_tumor'"
      ]
     },
     "execution_count": 14,
     "metadata": {},
     "output_type": "execute_result"
    }
   ],
   "source": [
    "image = cv2.imread(\"C:\\\\Users\\\\SHUBHAM SINGH\\\\Desktop\\\\Testing\\\\pituitary_tumor\\\\image(45).jpg\")\n",
    "image = cv2.resize(image, (150, 150))\n",
    "print(image)\n",
    "# Normalize the image\n",
    "image = image / 255.0\n",
    "\n",
    "# Convert the image to a NumPy array and add a batch dimension\n",
    "image = np.expand_dims(image, axis=0)\n",
    "\n",
    "# Make a prediction\n",
    "predictions = model.predict(image)\n",
    "labels[np.argmax(predictions)]"
   ]
  },
  {
   "cell_type": "code",
   "execution_count": 20,
   "metadata": {},
   "outputs": [
    {
     "name": "stdout",
     "output_type": "stream",
     "text": [
      "\u001b[1m1/1\u001b[0m \u001b[32m━━━━━━━━━━━━━━━━━━━━\u001b[0m\u001b[37m\u001b[0m \u001b[1m0s\u001b[0m 27ms/step\n"
     ]
    },
    {
     "data": {
      "text/plain": [
       "'glioma_tumor'"
      ]
     },
     "execution_count": 20,
     "metadata": {},
     "output_type": "execute_result"
    }
   ],
   "source": [
    "image = cv2.imread(\"C:\\\\Users\\\\SHUBHAM SINGH\\\\Desktop\\\\images (1).jpg\")\n",
    "image = cv2.resize(image, (150, 150))\n",
    "\n",
    "# Normalize the image\n",
    "image = image / 255.0\n",
    "\n",
    "# Convert the image to a NumPy array and add a batch dimension\n",
    "image = np.expand_dims(image, axis=0)\n",
    "\n",
    "# Make a prediction\n",
    "predictions = model.predict(image)\n",
    "labels[np.argmax(predictions)]"
   ]
  },
  {
   "cell_type": "code",
   "execution_count": 21,
   "metadata": {},
   "outputs": [
    {
     "name": "stdout",
     "output_type": "stream",
     "text": [
      "\u001b[1m1/1\u001b[0m \u001b[32m━━━━━━━━━━━━━━━━━━━━\u001b[0m\u001b[37m\u001b[0m \u001b[1m0s\u001b[0m 36ms/step\n"
     ]
    },
    {
     "data": {
      "text/plain": [
       "'meningioma_tumor'"
      ]
     },
     "execution_count": 21,
     "metadata": {},
     "output_type": "execute_result"
    }
   ],
   "source": [
    "image = cv2.imread(r\"C:\\Users\\SHUBHAM SINGH\\Desktop\\imgp.jpg\")\n",
    "image = cv2.resize(image, (150, 150))\n",
    "\n",
    "# Normalize the image\n",
    "image = image / 255.0\n",
    "\n",
    "# Convert the image to a NumPy array and add a batch dimension\n",
    "image = np.expand_dims(image, axis=0)\n",
    "\n",
    "# Make a prediction\n",
    "predictions = model.predict(image)\n",
    "labels[np.argmax(predictions)]"
   ]
  },
  {
   "cell_type": "code",
   "execution_count": 59,
   "metadata": {},
   "outputs": [
    {
     "name": "stdout",
     "output_type": "stream",
     "text": [
      "\u001b[1m1/1\u001b[0m \u001b[32m━━━━━━━━━━━━━━━━━━━━\u001b[0m\u001b[37m\u001b[0m \u001b[1m0s\u001b[0m 26ms/step\n"
     ]
    },
    {
     "data": {
      "text/plain": [
       "'meningioma_tumor'"
      ]
     },
     "execution_count": 59,
     "metadata": {},
     "output_type": "execute_result"
    }
   ],
   "source": [
    "image = cv2.imread(r\"C:\\Users\\SHUBHAM SINGH\\Desktop\\Testing\\pituitary_tumor\\image(35).jpg\")\n",
    "image = cv2.resize(image, (150, 150))\n",
    "\n",
    "# Normalize the image\n",
    "image = image / 255.0\n",
    "\n",
    "# Convert the image to a NumPy array and add a batch dimension\n",
    "image = np.expand_dims(image, axis=0)\n",
    "\n",
    "# Make a prediction\n",
    "predictions = model.predict(image)\n",
    "labels[np.argmax(predictions)]"
   ]
  },
  {
   "cell_type": "code",
   "execution_count": 60,
   "metadata": {},
   "outputs": [
    {
     "name": "stdout",
     "output_type": "stream",
     "text": [
      "\u001b[1m1/1\u001b[0m \u001b[32m━━━━━━━━━━━━━━━━━━━━\u001b[0m\u001b[37m\u001b[0m \u001b[1m0s\u001b[0m 27ms/step\n",
      "Image 0: Predicted label: meningioma_tumor, Confidence: 100.00%\n"
     ]
    }
   ],
   "source": [
    "# Loop through the images\n",
    "for i in range(1):  # Adjust the range as necessary to match the number of images\n",
    "    # Construct the file path\n",
    "    file_path = fr\"C:\\Users\\SHUBHAM SINGH\\Desktop\\AIML hackathon\\Classification\\image(16).jpg\"\n",
    "    \n",
    "    # Load the image\n",
    "    image = cv2.imread(file_path)\n",
    "    if image is None:\n",
    "        print(f\"Image at {file_path} could not be loaded.\")\n",
    "        continue\n",
    "    \n",
    "    # Resize the image to the required input shape\n",
    "    image = cv2.resize(image, (150, 150))\n",
    "\n",
    "    # Normalize the image\n",
    "    image = image / 255.0\n",
    "\n",
    "    # Convert the image to a NumPy array and add a batch dimension\n",
    "    image = np.expand_dims(image, axis=0)\n",
    "\n",
    "    # Make a prediction\n",
    "    predictions = model.predict(image)\n",
    "    \n",
    "    # Interpret the model's predictions\n",
    "    predicted_class = np.argmax(predictions)\n",
    "    predicted_label = labels[predicted_class]\n",
    "    confidence = predictions[0][predicted_class]\n",
    "\n",
    "    # Display the results\n",
    "    print(f\"Image {i}: Predicted label: {predicted_label}, Confidence: {confidence * 100:.2f}%\")\n",
    "\n",
    "# Note: Adjust the range(10) to match the number of images you have\n"
   ]
  },
  {
   "cell_type": "code",
   "execution_count": 61,
   "metadata": {},
   "outputs": [
    {
     "name": "stdout",
     "output_type": "stream",
     "text": [
      "\u001b[1m1/1\u001b[0m \u001b[32m━━━━━━━━━━━━━━━━━━━━\u001b[0m\u001b[37m\u001b[0m \u001b[1m0s\u001b[0m 83ms/step\n",
      "Image 0: Predicted label: glioma_tumor, Confidence: 100.00%\n"
     ]
    }
   ],
   "source": [
    "# Loop through the images\n",
    "for i in range(1):  # Adjust the range as necessary to match the number of images\n",
    "    # Construct the file path\n",
    "    file_path = fr\"C:\\Users\\SHUBHAM SINGH\\Desktop\\AIML hackathon\\Classification\\image(77).jpg\"\n",
    "    \n",
    "    # Load the image\n",
    "    image = cv2.imread(file_path)\n",
    "    if image is None:\n",
    "        print(f\"Image at {file_path} could not be loaded.\")\n",
    "        continue\n",
    "    \n",
    "    # Resize the image to the required input shape\n",
    "    image = cv2.resize(image, (150, 150))\n",
    "\n",
    "    # Normalize the image\n",
    "    image = image / 255.0\n",
    "\n",
    "    # Convert the image to a NumPy array and add a batch dimension\n",
    "    image = np.expand_dims(image, axis=0)\n",
    "\n",
    "    # Make a prediction\n",
    "    predictions = model.predict(image)\n",
    "    \n",
    "    # Interpret the model's predictions\n",
    "    predicted_class = np.argmax(predictions)\n",
    "    predicted_label = labels[predicted_class]\n",
    "    confidence = predictions[0][predicted_class]\n",
    "\n",
    "    # Display the results\n",
    "    print(f\"Image {i}: Predicted label: {predicted_label}, Confidence: {confidence * 100:.2f}%\")\n",
    "\n",
    "# Note: Adjust the range(10) to match the number of images you have\n"
   ]
  },
  {
   "cell_type": "code",
   "execution_count": 62,
   "metadata": {},
   "outputs": [
    {
     "name": "stdout",
     "output_type": "stream",
     "text": [
      "\u001b[1m1/1\u001b[0m \u001b[32m━━━━━━━━━━━━━━━━━━━━\u001b[0m\u001b[37m\u001b[0m \u001b[1m0s\u001b[0m 27ms/step\n",
      "Image 0: Predicted label: pituitary_tumor, Confidence: 100.00%\n"
     ]
    }
   ],
   "source": [
    "# Loop through the images\n",
    "for i in range(1):  # Adjust the range as necessary to match the number of images\n",
    "    # Construct the file path\n",
    "    file_path = fr\"C:\\Users\\SHUBHAM SINGH\\Desktop\\AIML hackathon\\Classification\\image(85).jpg\"\n",
    "    \n",
    "    # Load the image\n",
    "    image = cv2.imread(file_path)\n",
    "    if image is None:\n",
    "        print(f\"Image at {file_path} could not be loaded.\")\n",
    "        continue\n",
    "    \n",
    "    # Resize the image to the required input shape\n",
    "    image = cv2.resize(image, (150, 150))\n",
    "\n",
    "    # Normalize the image\n",
    "    image = image / 255.0\n",
    "\n",
    "    # Convert the image to a NumPy array and add a batch dimension\n",
    "    image = np.expand_dims(image, axis=0)\n",
    "\n",
    "    # Make a prediction\n",
    "    predictions = model.predict(image)\n",
    "    \n",
    "    # Interpret the model's predictions\n",
    "    predicted_class = np.argmax(predictions)\n",
    "    predicted_label = labels[predicted_class]\n",
    "    confidence = predictions[0][predicted_class]\n",
    "\n",
    "    # Display the results\n",
    "    print(f\"Image {i}: Predicted label: {predicted_label}, Confidence: {confidence * 100:.2f}%\")\n",
    "\n",
    "# Note: Adjust the range(10) to match the number of images you have\n"
   ]
  },
  {
   "cell_type": "code",
   "execution_count": null,
   "metadata": {},
   "outputs": [],
   "source": [
    "def predcit_tumor_class(image_path):\n",
    "    image = cv2.imread(image_path)\n",
    "    if image is None:\n",
    "        print(f\"Image at {file_path} could not be loaded.\")\n",
    "    \n",
    "    # Resize the image to the required input shape\n",
    "    image = cv2.resize(image, (150, 150))\n",
    "\n",
    "    # Normalize the image\n",
    "    image = image / 255.0\n",
    "\n",
    "    # Convert the image to a NumPy array and add a batch dimension\n",
    "    image = np.expand_dims(image, axis=0)\n",
    "\n",
    "    # Make a prediction\n",
    "    predictions = model.predict(image)\n",
    "    \n",
    "    # Interpret the model's predictions\n",
    "    predicted_class = np.argmax(predictions)\n",
    "    predicted_label = labels[predicted_class]\n",
    "    confidence = predictions[0][predicted_class]\n",
    "\n",
    "    # Display the results\n",
    "    print(f\"Image {i}: Predicted label: {predicted_label} \")\n"
   ]
  }
 ],
 "metadata": {
  "kernelspec": {
   "display_name": "Python 3",
   "language": "python",
   "name": "python3"
  },
  "language_info": {
   "codemirror_mode": {
    "name": "ipython",
    "version": 3
   },
   "file_extension": ".py",
   "mimetype": "text/x-python",
   "name": "python",
   "nbconvert_exporter": "python",
   "pygments_lexer": "ipython3",
   "version": "3.12.4"
  }
 },
 "nbformat": 4,
 "nbformat_minor": 2
}
